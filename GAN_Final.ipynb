{
 "cells": [
  {
   "cell_type": "markdown",
   "metadata": {},
   "source": [
    "![](cover.png)\n",
    "\n",
    "# 生成式對抗網路 - GAN\n",
    "\n",
    "## 介紹\n",
    "\n",
    "之前介紹的CNN和RNN都是屬於監督式的分類任務，但是現實我們想做到的事更多也更宏大\n",
    "\n",
    "譬如：讓電腦學會寫字，讓電腦學會填補圖畫之類\n",
    "\n",
    "但是這種任務都是屬於無中生有的事，我們之前所教的單純分類任務是做不到的\n",
    "\n",
    "於是就有人提出了GAN(Generative Adversarial Network)\n",
    "\n",
    "## GAN介紹\n",
    "\n",
    "GAN一個重點就是Generative(生成)，他試圖讓電腦開始有創作的可能性\n",
    "\n",
    "第二個重點就是Adversarial(對抗)，因為創作，一定不可能是標注好答案的(監督式)\n",
    "\n",
    "那也不可能完全無憑藉(非監督式)的創造\n",
    "\n",
    "所以他使用的方法是半監督式，藉由環境的反饋來決定一個創作好不好\n",
    "\n",
    "![](gan.png)\n",
    "\n",
    "上圖是整個GAN的架構圖\n",
    "\n",
    "其實概念非常的簡單\n",
    "\n",
    "我們會有一個正常的分類器，來當作鑑賞家，這個鑑賞家(Discriminator)只要學會分類兩件事情，真(我們真實的mnist資料)和偽(我們隨手創造出來的數字)\n",
    "\n",
    "接著我們會有一個反向(神經元越來越多)的深度網路，來當作創作家，這個創作家(Generator)會依據神經元的權重來創造數字\n",
    "\n",
    "接著我們進行以下的步驟，每個batch都要這麼進行\n",
    "\n",
    "1. 把真實資料的一個batch標示為真丟給鑑賞家，也讓創作家創作一個batch標示為鑑賞家，並且訓練，讓鑑賞家學會真假\n",
    "2. 讓創作家再創作一個batch，這時候開始訓練創作家，讓創作家的作品接近鑑賞家現在的真\n",
    "\n",
    "不斷的進行這個步驟，創作家和鑑賞家的水品都會提升，來到最後，創作家就可以創作幾可亂真的作品了\n",
    "\n",
    "## 變種GAN\n",
    "\n",
    "除了最基本的GAN，還有許多不同的GAN，譬如CGAN(Conditional Generative Adversarial Net)，把機率換成了條件機率，就可以指定創作某一類的數字\n",
    "\n",
    "![](cgan.png)\n",
    "\n",
    "\n",
    "## 變種GAN參考\n",
    "\n",
    "https://github.com/eriklindernoren/Keras-GAN"
   ]
  },
  {
   "cell_type": "markdown",
   "metadata": {},
   "source": [
    "## ✔ Step1. 資料預處理\n",
    "\n",
    "這裡我們選用內建的mnist手寫數字資料庫來，mnist提供共70000筆手寫數字，而且用keras讀取的時候會直接幫你分成訓練和測試兩份資料"
   ]
  },
  {
   "cell_type": "code",
   "execution_count": 1,
   "metadata": {},
   "outputs": [
    {
     "name": "stderr",
     "output_type": "stream",
     "text": [
      "Using TensorFlow backend.\n"
     ]
    }
   ],
   "source": [
    "from keras.layers import Input\n",
    "from keras.models import Model, Sequential\n",
    "from keras.layers.core import Reshape, Dense, Dropout, Flatten\n",
    "from keras.layers import Embedding, BatchNormalization\n",
    "from keras.datasets import mnist\n",
    "import numpy as np\n",
    "%matplotlib inline\n",
    "# 我們會使用到一些內建的資料庫, MAC需要加入以下兩行, 才不會把對方的ssl憑證視為無效\n",
    "import ssl\n",
    "ssl._create_default_https_context = ssl._create_unverified_context"
   ]
  },
  {
   "cell_type": "code",
   "execution_count": 2,
   "metadata": {},
   "outputs": [],
   "source": [
    "# 回傳值: ((訓練特徵, 訓練目標), (測試特徵, 測試目標))\n",
    "(x_train, y_train),(x_test, y_test) = mnist.load_data()"
   ]
  },
  {
   "cell_type": "code",
   "execution_count": 3,
   "metadata": {},
   "outputs": [
    {
     "data": {
      "text/plain": [
       "(60000, 28, 28)"
      ]
     },
     "execution_count": 3,
     "metadata": {},
     "output_type": "execute_result"
    }
   ],
   "source": [
    "x_train.shape"
   ]
  },
  {
   "cell_type": "code",
   "execution_count": 4,
   "metadata": {},
   "outputs": [],
   "source": [
    "from keras.utils import np_utils\n",
    "# reshape讓他從 32 * 32變成 784 * 1的一維陣列\n",
    "# 讓我們標準化到-1~1區間\n",
    "x_train_shaped = (x_train.reshape(60000, 784).astype(\"float32\") - 127.5)/127.5\n",
    "x_test_shaped = (x_test.reshape(10000, 784).astype(\"float32\") - 127.5)/127.5"
   ]
  },
  {
   "cell_type": "markdown",
   "metadata": {},
   "source": [
    "## ✔ Step2. 建立創作家\n",
    "\n",
    "我們做一個跟我們以前反向的深度網路，神經元隨著層數越來越大，最後的神經元數目要等於你要創作的圖片的維度(28 x 28)\n",
    "\n",
    "這裡大家在activation因為不是要二分機率，所以還蠻喜歡有極正和極負的輸出，所以還蠻常使用tanh當作激活函數(-1 ~ 1)，不過你也可以使用sigmoid當你的激活函數\n",
    "\n",
    "### BatchNormalization\n",
    "\n",
    "這裡我們使用了一個在原始GAN論文裡沒使用的技巧\n",
    "\n",
    "因為GAN的Generator和Discriminator都極其的脆弱\n",
    "\n",
    "1. 因為是一個反向的神經元擴大，所以可以想見一點影響都會被擴大   \n",
    "2. 你會發現創作的圖片很容易讓鑑賞家走到relu的『死亡區』，就是為0，而且斜率為0的區域，一旦來到這區域，代表梯度更新為0，沒機會從死亡區回來，這時候我們就說這神經元已經死掉了\n",
    "\n",
    "\n",
    "這裡我們想起了一件事，我們再傳入我們的圖片的時候，通常會喜歡做一次Normalization到0~1，優點是可以好好配合Keras隨機的Weights，不會隨意的亂走\n",
    "\n",
    "但第二層以後都是神經網路算出來的值，那我們現在可不可以也採納這個概念呢？讓第二層以後的所有算出值也做出標準化呢？\n",
    "\n",
    "可以的，而且由於我們是批次(batch)的訓練，所以我們也希望可以直接對整個batch做一次Normalization就好\n",
    "\n",
    "![](bn.png)\n",
    "\n",
    "上面是Batch Normalization的公式\n",
    "\n",
    "前三行很簡單，就是普通的標準化，平移到均值為0的位置，縮放成標準差爲1\n",
    "\n",
    "整個精華在第四行，因為我們的特徵可能本來就不該均值0和標準差1啊，所以他加了個縮放參數在這裡(Gamma和Belta)\n",
    "\n",
    "而且讓神經網路自己學習每一層的縮放參數是多少！\n",
    "\n",
    "經過這美美的Batch Normalization，我們達成兩個優點\n",
    "\n",
    "1. 每一層都有經過適度的縮放和平移，可以很好的配合初始的權重\n",
    "2. 因為經過縮放和平移，所以不會整組落入relu死亡區，就算這次落入死亡區，下一次還有機會經過BN被拉回來\n",
    "\n",
    "記得在GAN的創作家每一層，我們都可以放上Batch Normalization這個技巧！會讓你的結果變得比較美！"
   ]
  },
  {
   "cell_type": "code",
   "execution_count": 5,
   "metadata": {},
   "outputs": [
    {
     "name": "stdout",
     "output_type": "stream",
     "text": [
      "_________________________________________________________________\n",
      "Layer (type)                 Output Shape              Param #   \n",
      "=================================================================\n",
      "dense_1 (Dense)              (None, 256)               25856     \n",
      "_________________________________________________________________\n",
      "batch_normalization_1 (Batch (None, 256)               1024      \n",
      "_________________________________________________________________\n",
      "dense_2 (Dense)              (None, 512)               131584    \n",
      "_________________________________________________________________\n",
      "batch_normalization_2 (Batch (None, 512)               2048      \n",
      "_________________________________________________________________\n",
      "dense_3 (Dense)              (None, 784)               402192    \n",
      "=================================================================\n",
      "Total params: 562,704\n",
      "Trainable params: 561,168\n",
      "Non-trainable params: 1,536\n",
      "_________________________________________________________________\n"
     ]
    }
   ],
   "source": [
    "random_dim = 100\n",
    "generator = Sequential()\n",
    "generator.add(Dense(256, input_dim=random_dim, \n",
    "                    activation='relu', \n",
    "                    kernel_initializer=\"random_normal\"))\n",
    "generator.add(BatchNormalization())\n",
    "generator.add(Dense(512, activation='relu', \n",
    "                    kernel_initializer=\"random_normal\"))\n",
    "generator.add(BatchNormalization())\n",
    "generator.add(Dense(784, activation='tanh'))\n",
    "generator.compile(loss='binary_crossentropy', optimizer=\"adam\")\n",
    "generator.summary()"
   ]
  },
  {
   "cell_type": "markdown",
   "metadata": {},
   "source": [
    "## ✔ Step3. 建立鑑賞家\n",
    "\n",
    "一個專門來負責看揪出創作家創造的假作品的鑑賞家，我使用最簡單的MLP當作我們鑑賞家"
   ]
  },
  {
   "cell_type": "code",
   "execution_count": 6,
   "metadata": {},
   "outputs": [
    {
     "name": "stdout",
     "output_type": "stream",
     "text": [
      "_________________________________________________________________\n",
      "Layer (type)                 Output Shape              Param #   \n",
      "=================================================================\n",
      "dense_4 (Dense)              (None, 1024)              803840    \n",
      "_________________________________________________________________\n",
      "dropout_1 (Dropout)          (None, 1024)              0         \n",
      "_________________________________________________________________\n",
      "dense_5 (Dense)              (None, 512)               524800    \n",
      "_________________________________________________________________\n",
      "dropout_2 (Dropout)          (None, 512)               0         \n",
      "_________________________________________________________________\n",
      "dense_6 (Dense)              (None, 256)               131328    \n",
      "_________________________________________________________________\n",
      "dropout_3 (Dropout)          (None, 256)               0         \n",
      "_________________________________________________________________\n",
      "dense_7 (Dense)              (None, 1)                 257       \n",
      "=================================================================\n",
      "Total params: 1,460,225\n",
      "Trainable params: 1,460,225\n",
      "Non-trainable params: 0\n",
      "_________________________________________________________________\n"
     ]
    }
   ],
   "source": [
    "discriminator = Sequential()\n",
    "discriminator.add(Dense(1024, input_dim=784, \n",
    "                        activation='relu', \n",
    "                        kernel_initializer=\"random_normal\"))\n",
    "discriminator.add(Dropout(0.25))\n",
    "discriminator.add(Dense(512, activation='relu', \n",
    "                        kernel_initializer=\"random_normal\"))\n",
    "discriminator.add(Dropout(0.25))\n",
    "discriminator.add(Dense(256, activation='relu',\n",
    "                        kernel_initializer=\"random_normal\"))\n",
    "discriminator.add(Dropout(0.25))\n",
    "discriminator.add(Dense(1, activation='sigmoid'))\n",
    "discriminator.compile(loss='binary_crossentropy', optimizer=\"adam\")\n",
    "discriminator.summary()"
   ]
  },
  {
   "cell_type": "markdown",
   "metadata": {},
   "source": [
    "## ✔ Step4. 組合網路\n",
    "\n",
    "這裡為了方便訓練創作家，把它們組合在一起\n",
    "\n",
    "那由於只是訓練創作家，所以我們要把鑑賞家的參數固定住，直接設置trainable = False即可\n",
    "\n",
    "不過要在compile前就設定，compile完了就不會改變\n",
    "\n",
    "所以我們只有在組合網路有將鑑賞家的參數固定(可以看Non-trainable params確定)"
   ]
  },
  {
   "cell_type": "code",
   "execution_count": 7,
   "metadata": {},
   "outputs": [
    {
     "name": "stdout",
     "output_type": "stream",
     "text": [
      "_________________________________________________________________\n",
      "Layer (type)                 Output Shape              Param #   \n",
      "=================================================================\n",
      "input_1 (InputLayer)         (None, 100)               0         \n",
      "_________________________________________________________________\n",
      "sequential_1 (Sequential)    (None, 784)               562704    \n",
      "_________________________________________________________________\n",
      "sequential_2 (Sequential)    (None, 1)                 1460225   \n",
      "=================================================================\n",
      "Total params: 2,022,929\n",
      "Trainable params: 561,168\n",
      "Non-trainable params: 1,461,761\n",
      "_________________________________________________________________\n"
     ]
    }
   ],
   "source": [
    "discriminator.trainable = False\n",
    "gan_input = Input(shape=(random_dim,))\n",
    "x = generator(gan_input)\n",
    "gan_output = discriminator(x)\n",
    "gan = Model(inputs=gan_input, outputs=gan_output)\n",
    "gan.compile(loss='binary_crossentropy', optimizer=\"adam\")\n",
    "gan.summary()"
   ]
  },
  {
   "cell_type": "code",
   "execution_count": 8,
   "metadata": {},
   "outputs": [
    {
     "name": "stdout",
     "output_type": "stream",
     "text": [
      "--------------- epoch 0 ---------------\n",
      "Discriminator loss: 0.1319003701210022\n",
      "Generator loss: 8.2713375\n",
      "--------------- epoch 1 ---------------\n",
      "Discriminator loss: 0.1373519003391266\n",
      "Generator loss: 5.532821\n",
      "--------------- epoch 2 ---------------\n",
      "Discriminator loss: 0.41682881116867065\n",
      "Generator loss: 2.3718922\n",
      "--------------- epoch 3 ---------------\n",
      "Discriminator loss: 0.462246835231781\n",
      "Generator loss: 1.5258994\n",
      "--------------- epoch 4 ---------------\n",
      "Discriminator loss: 0.5252199769020081\n",
      "Generator loss: 1.3568485\n",
      "--------------- epoch 5 ---------------\n",
      "Discriminator loss: 0.49116039276123047\n",
      "Generator loss: 1.2497867\n",
      "--------------- epoch 6 ---------------\n",
      "Discriminator loss: 0.534600019454956\n",
      "Generator loss: 1.126162\n",
      "--------------- epoch 7 ---------------\n",
      "Discriminator loss: 0.554734468460083\n",
      "Generator loss: 1.0554607\n",
      "--------------- epoch 8 ---------------\n",
      "Discriminator loss: 0.5893127918243408\n",
      "Generator loss: 1.1031088\n",
      "--------------- epoch 9 ---------------\n",
      "Discriminator loss: 0.5687193274497986\n",
      "Generator loss: 1.081857\n"
     ]
    }
   ],
   "source": [
    "batch_size = 200\n",
    "epoch_count = 10\n",
    "d_loss_list = []\n",
    "g_loss_list = []\n",
    "for epoch in range(0, epoch_count):\n",
    "    for batch_count in range(0, 300):\n",
    "        idx = np.random.randint(0, x_train.shape[0], batch_size)\n",
    "        imgs = x_train_shaped[idx]\n",
    "\n",
    "        valid = np.ones((batch_size, 1))\n",
    "        fake = np.zeros((batch_size, 1))\n",
    "        # 步驟0:讓創作家製造出fake image\n",
    "        noise = np.random.normal(0, 1, (batch_size, random_dim))\n",
    "        gen_imgs = generator.predict(noise)\n",
    "\n",
    "        discriminator.trainable = True\n",
    "        # 步驟1:讓鑑賞家鑑賞對的image\n",
    "        d_loss_real = discriminator.train_on_batch(imgs, valid)\n",
    "        # 步驟2:讓鑑賞家鑑賞錯的image\n",
    "        d_loss_fake = discriminator.train_on_batch(gen_imgs, fake)\n",
    "        d_loss = (d_loss_real + d_loss_fake) / 2\n",
    "\n",
    "        discriminator.trainable = False\n",
    "        noise = np.random.normal(0, 1, (batch_size, random_dim))\n",
    "        # 步驟3:訓練創作家的創作能力\n",
    "        g_loss = gan.train_on_batch(noise, valid)\n",
    "    dash = \"-\" * 15\n",
    "    print(dash, \"epoch\", epoch, dash)\n",
    "    print(\"Discriminator loss:\", d_loss)\n",
    "    print(\"Generator loss:\", g_loss)\n",
    "    d_loss_list.append(d_loss)\n",
    "    g_loss_list.append(g_loss)\n"
   ]
  },
  {
   "cell_type": "markdown",
   "metadata": {},
   "source": [
    "## ✔ Step4. 訓練結果\n",
    "\n",
    "你發現在鑑賞家的逼迫下，我們訓練出來的創作家創造的數字已經有模有樣了，有些數字已經看起來非常的真實了！"
   ]
  },
  {
   "cell_type": "code",
   "execution_count": 24,
   "metadata": {},
   "outputs": [
    {
     "data": {
      "image/png": "[encoded data removed]",
      "text/plain": [
       "<matplotlib.figure.Figure at 0x12d8c6eb8>"
      ]
     },
     "metadata": {},
     "output_type": "display_data"
    }
   ],
   "source": [
    "import matplotlib.pyplot as plt\n",
    "%matplotlib inline\n",
    "examples = 5\n",
    "noise = np.random.normal(0, 1, (examples, random_dim))\n",
    "gen_imgs = generator.predict(noise)\n",
    "\n",
    "# Rescale images 0 - 1\n",
    "gen_imgs = 0.5 * gen_imgs + 0.5\n",
    "gen_imgs = gen_imgs.reshape(examples, 28, 28)\n",
    "plt.figure(figsize = (14, 14))\n",
    "for i in range(0, examples):\n",
    "    plt.subplot(1, examples, i + 1)\n",
    "    plt.imshow(gen_imgs[i], cmap='gray')\n"
   ]
  },
  {
   "cell_type": "code",
   "execution_count": null,
   "metadata": {},
   "outputs": [],
   "source": []
  }
 ],
 "metadata": {
  "kernelspec": {
   "display_name": "py36default",
   "language": "python",
   "name": "py36default"
  },
  "language_info": {
   "codemirror_mode": {
    "name": "ipython",
    "version": 3
   },
   "file_extension": ".py",
   "mimetype": "text/x-python",
   "name": "python",
   "nbconvert_exporter": "python",
   "pygments_lexer": "ipython3",
   "version": "3.6.0"
  }
 },
 "nbformat": 4,
 "nbformat_minor": 2
}
